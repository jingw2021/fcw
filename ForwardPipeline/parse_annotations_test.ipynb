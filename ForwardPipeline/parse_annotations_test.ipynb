{
 "cells": [
  {
   "cell_type": "code",
   "execution_count": 42,
   "id": "c475cab5",
   "metadata": {},
   "outputs": [],
   "source": [
    "pred_path_example = \"results/processed-video-forward-1621170600000/object_detector_pred/01129.pkl\""
   ]
  },
  {
   "cell_type": "code",
   "execution_count": 43,
   "id": "ebde2ea2",
   "metadata": {},
   "outputs": [],
   "source": [
    "import pickle"
   ]
  },
  {
   "cell_type": "code",
   "execution_count": 44,
   "id": "eda93953",
   "metadata": {},
   "outputs": [],
   "source": [
    "predictions = pickle.load(open(pred_path_example, 'rb'))"
   ]
  },
  {
   "cell_type": "code",
   "execution_count": 63,
   "id": "f3c21a91",
   "metadata": {},
   "outputs": [],
   "source": [
    "instances =  predictions['instances']\n"
   ]
  },
  {
   "cell_type": "code",
   "execution_count": 77,
   "id": "a904eda9",
   "metadata": {},
   "outputs": [
    {
     "name": "stdout",
     "output_type": "stream",
     "text": [
      "[872.4478  276.96048 915.22327 309.194  ] 2 0.9981957\n",
      "[864.6903  272.4442  884.17737 294.66373] 2 0.8250593\n",
      "[  14.341535  247.9146   1920.       1080.      ] 2 0.51496035\n"
     ]
    }
   ],
   "source": [
    "im_size = instances.image_size\n",
    "\n",
    "for pred_box, pred_class, score in zip(instances.pred_boxes, instance.pred_classes, instance.scores):\n",
    "    pred_box = pred_box.numpy()\n",
    "    pred_class = pred_class.numpy()\n",
    "    score = score.numpy()\n",
    "    print(pred_box, pred_class, score)"
   ]
  },
  {
   "cell_type": "code",
   "execution_count": 1,
   "id": "2e3721b7",
   "metadata": {},
   "outputs": [
    {
     "name": "stdout",
     "output_type": "stream",
     "text": [
      "/usr/local/Caskroom/miniconda/base/envs/laneatt/bin/python\r\n"
     ]
    }
   ],
   "source": [
    "!which python"
   ]
  },
  {
   "cell_type": "code",
   "execution_count": 2,
   "id": "e896b659",
   "metadata": {},
   "outputs": [
    {
     "name": "stdout",
     "output_type": "stream",
     "text": [
      "torch==1.6.0\r\n",
      "torchvision==0.7.0\r\n"
     ]
    }
   ],
   "source": [
    "!pip freeze | grep torch"
   ]
  },
  {
   "cell_type": "code",
   "execution_count": null,
   "id": "918d0f77",
   "metadata": {},
   "outputs": [],
   "source": []
  }
 ],
 "metadata": {
  "kernelspec": {
   "display_name": "Python 3",
   "language": "python",
   "name": "python3"
  },
  "language_info": {
   "codemirror_mode": {
    "name": "ipython",
    "version": 3
   },
   "file_extension": ".py",
   "mimetype": "text/x-python",
   "name": "python",
   "nbconvert_exporter": "python",
   "pygments_lexer": "ipython3",
   "version": "3.8.5"
  }
 },
 "nbformat": 4,
 "nbformat_minor": 5
}
